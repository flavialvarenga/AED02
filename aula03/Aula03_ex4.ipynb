{
 "cells": [
  {
   "cell_type": "code",
   "execution_count": 22,
   "id": "bea0a7f4-6a15-49ef-9c1e-e27612d1a030",
   "metadata": {},
   "outputs": [],
   "source": [
    "def buscar_cliente(nome, lista):\n",
    "    for i in range(len(lista)):\n",
    "       if lista[i].lower() == nome.lower():\n",
    "           return i\n",
    "    return -1"
   ]
  },
  {
   "cell_type": "code",
   "execution_count": 23,
   "id": "ea602382-2357-455b-a90a-ea69d652c01f",
   "metadata": {},
   "outputs": [],
   "source": [
    "lista_nomes = [\"Ana\", \"Pedro\", \"José\", \"Maximus\", \"Mariana\", \"Marcos\"]"
   ]
  },
  {
   "cell_type": "code",
   "execution_count": 26,
   "id": "7e3d2816-9e8a-4f48-89e8-20685e4537b3",
   "metadata": {},
   "outputs": [
    {
     "name": "stdin",
     "output_type": "stream",
     "text": [
      "Digite o nome <'sair' para sair>:  sair\n"
     ]
    }
   ],
   "source": [
    "while True:\n",
    "    n = input(\"Digite o nome <'sair' para sair>: \")\n",
    "    if n.lower() == \"sair\":\n",
    "        break\n",
    "    else:\n",
    "        i = buscar_cliente(n, lista_nomes)\n",
    "        if i == -1:\n",
    "            print(\"Nome não encontrado!\")\n",
    "        else:\n",
    "            print(f\"O nome {n} foi encontrado na posição {i}\")"
   ]
  },
  {
   "cell_type": "code",
   "execution_count": null,
   "id": "8e84b09f-f2e0-4613-a545-b2300b0a61ad",
   "metadata": {},
   "outputs": [],
   "source": []
  }
 ],
 "metadata": {
  "kernelspec": {
   "display_name": "Python 3 (ipykernel)",
   "language": "python",
   "name": "python3"
  },
  "language_info": {
   "codemirror_mode": {
    "name": "ipython",
    "version": 3
   },
   "file_extension": ".py",
   "mimetype": "text/x-python",
   "name": "python",
   "nbconvert_exporter": "python",
   "pygments_lexer": "ipython3",
   "version": "3.13.5"
  }
 },
 "nbformat": 4,
 "nbformat_minor": 5
}
