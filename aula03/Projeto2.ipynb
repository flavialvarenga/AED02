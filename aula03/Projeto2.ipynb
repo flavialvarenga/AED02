{
 "cells": [
  {
   "cell_type": "markdown",
   "id": "e275ef26-a16a-4801-a305-fab46a0d26c8",
   "metadata": {},
   "source": [
    "## Projeto 2 - Verificando a lista de convidados"
   ]
  },
  {
   "cell_type": "markdown",
   "id": "447f2d13-5c31-4e2f-b166-0ab2683c4dba",
   "metadata": {},
   "source": [
    "**Contexto:** Desenvolver um programa para gerenciar a lista de convidados de um evento.  \n",
    "\n",
    "**Problema:** Implementar uma funcionalidade que permita verificar se um nome específico está na lista de convidados.  \n",
    "\n",
    "**Indicação de solução:** Crie uma lista de nomes de convidados. Implemente uma função que receba um nome como entrada e use a busca sequencial para verificar se esse nome existe na lista. Exiba a mensagem indicando se o convidado está na lista ou não."
   ]
  },
  {
   "cell_type": "code",
   "execution_count": 13,
   "id": "e20d3755-b92c-4d02-886a-5af42bbb6288",
   "metadata": {},
   "outputs": [],
   "source": [
    "def buscar_convidados(nome, lista):\n",
    "    for i in range(len(lista)):\n",
    "        if lista[i].lower() == nome.lower():\n",
    "            return i\n",
    "    return -1"
   ]
  },
  {
   "cell_type": "code",
   "execution_count": 18,
   "id": "297eb12e-64d0-4fec-85ad-4e52ea673eb3",
   "metadata": {},
   "outputs": [],
   "source": [
    "lista_convidados = [\"Maria Helena\", \n",
    "                    \"Helena da Silva\", \n",
    "                    \"João Ribamar\",\n",
    "                    \"Vitor Quintus\",\n",
    "                    \"Gabriela Ruy Barbosa\", \n",
    "                    \"Ricardo da Costa\", \n",
    "                    \"Murilo Pereira dos Santos\",\n",
    "                    \"Jéssica Oliveira\", \n",
    "                    \"Diná Camargo\"\n",
    "                   ]"
   ]
  },
  {
   "cell_type": "code",
   "execution_count": 20,
   "id": "01fcfef2-cd52-45f2-b8d1-252f9d53616e",
   "metadata": {},
   "outputs": [
    {
     "name": "stdin",
     "output_type": "stream",
     "text": [
      "Digite o nome do convidado: <'s' para sair>:  Maria Helena\n"
     ]
    },
    {
     "name": "stdout",
     "output_type": "stream",
     "text": [
      " \u001b[1m Seja Bem-vindo(a) Maria Helena, tenha uma excelente festa!!\u001b[1m\n"
     ]
    },
    {
     "name": "stdin",
     "output_type": "stream",
     "text": [
      "Digite o nome do convidado: <'s' para sair>:  João vitor\n"
     ]
    },
    {
     "name": "stdout",
     "output_type": "stream",
     "text": [
      " \u001b[1mO convidado não está na lista!\u001b[0m\n"
     ]
    },
    {
     "name": "stdin",
     "output_type": "stream",
     "text": [
      "Digite o nome do convidado: <'s' para sair>:  s\n"
     ]
    }
   ],
   "source": [
    "while True:\n",
    "    n = input(\"Digite o nome do convidado: <'s' para sair>: \")\n",
    "    if n.lower() == \"s\":\n",
    "        break\n",
    "    else:\n",
    "        i = buscar_convidados(n, lista_convidados)\n",
    "        if i == -1:\n",
    "            print(f\" \\033[1mO convidado não está na lista!\\033[0m\")\n",
    "        else:\n",
    "            print(f\" \\033[1m Seja Bem-vindo(a) {n}, tenha uma excelente festa!!\\033[1m\")"
   ]
  },
  {
   "cell_type": "code",
   "execution_count": null,
   "id": "c28f268a-9c6b-4b86-84ab-4af372770bd1",
   "metadata": {},
   "outputs": [],
   "source": []
  }
 ],
 "metadata": {
  "kernelspec": {
   "display_name": "Python 3 (ipykernel)",
   "language": "python",
   "name": "python3"
  },
  "language_info": {
   "codemirror_mode": {
    "name": "ipython",
    "version": 3
   },
   "file_extension": ".py",
   "mimetype": "text/x-python",
   "name": "python",
   "nbconvert_exporter": "python",
   "pygments_lexer": "ipython3",
   "version": "3.13.5"
  }
 },
 "nbformat": 4,
 "nbformat_minor": 5
}
