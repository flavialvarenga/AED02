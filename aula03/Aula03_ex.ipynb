{
 "cells": [
  {
   "cell_type": "markdown",
   "id": "598b4d33-f1b8-40a1-adbd-7a9c33e50d2e",
   "metadata": {},
   "source": [
    "## EXERCÍCIO 01"
   ]
  },
  {
   "cell_type": "code",
   "execution_count": 2,
   "id": "e42bdce3-affd-4c07-81ab-6a5b9a155b2d",
   "metadata": {},
   "outputs": [],
   "source": [
    "def busca_valor (lista, valor):\n",
    "    for i in range(len(lista)):\n",
    "        if lista[i] == valor:\n",
    "            return i\n",
    "    return -1"
   ]
  },
  {
   "cell_type": "code",
   "execution_count": 3,
   "id": "c84fa1e9-c60e-4ef5-9a14-86fecedc9b5c",
   "metadata": {},
   "outputs": [
    {
     "name": "stdout",
     "output_type": "stream",
     "text": [
      "2\n",
      "-1\n"
     ]
    }
   ],
   "source": [
    "lista = [ 8,3,10,1,7]\n",
    "print(busca_valor(lista,10))\n",
    "print(busca_valor(lista,5))"
   ]
  },
  {
   "cell_type": "code",
   "execution_count": 4,
   "id": "fddb30c7-b0ff-47cb-81ef-2c07a0960153",
   "metadata": {},
   "outputs": [],
   "source": [
    "def busca_valor2 (lista2, valor):\n",
    "    flag = 0\n",
    "    while flag < len(lista2):\n",
    "        if lista2[flag] == valor:\n",
    "            return flag\n",
    "        flag += 1\n",
    "    return -1"
   ]
  },
  {
   "cell_type": "code",
   "execution_count": 5,
   "id": "e95ebafd-b556-49d0-8b8f-ebb979038422",
   "metadata": {},
   "outputs": [
    {
     "name": "stdout",
     "output_type": "stream",
     "text": [
      "4\n",
      "0\n"
     ]
    }
   ],
   "source": [
    "lista2 = [ 8,3,10,1,7]\n",
    "print(busca_valor2(lista,7))\n",
    "print(busca_valor2(lista,8))"
   ]
  },
  {
   "cell_type": "markdown",
   "id": "5312a64c-53a6-41e7-9bac-0f8375657d31",
   "metadata": {},
   "source": [
    "## EXERCÍCIO 02"
   ]
  },
  {
   "cell_type": "code",
   "execution_count": null,
   "id": "955386d4-b7a5-49e1-9c1f-d2f709c596e5",
   "metadata": {},
   "outputs": [],
   "source": [
    "def minimo (l):\n",
    "    menor = l[0]\n",
    "    for i in range(1, len(l)):\n",
    "        if l[i]< menor:\n",
    "            menor = l[i]\n",
    "    return menor"
   ]
  }
 ],
 "metadata": {
  "kernelspec": {
   "display_name": "Python 3 (ipykernel)",
   "language": "python",
   "name": "python3"
  },
  "language_info": {
   "codemirror_mode": {
    "name": "ipython",
    "version": 3
   },
   "file_extension": ".py",
   "mimetype": "text/x-python",
   "name": "python",
   "nbconvert_exporter": "python",
   "pygments_lexer": "ipython3",
   "version": "3.13.5"
  }
 },
 "nbformat": 4,
 "nbformat_minor": 5
}
