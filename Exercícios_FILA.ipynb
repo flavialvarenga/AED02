{
 "cells": [
  {
   "cell_type": "markdown",
   "id": "695ac63e-1cf1-4353-9368-84ae42330755",
   "metadata": {},
   "source": [
    "## Exercício 5: Atendimento em um banco"
   ]
  },
  {
   "cell_type": "markdown",
   "id": "acd2c434-57d1-4f2a-b8a6-34a6e1eec9b1",
   "metadata": {},
   "source": []
  },
  {
   "cell_type": "code",
   "execution_count": 3,
   "id": "2705e071-d11b-414f-9f21-6eeae639d767",
   "metadata": {},
   "outputs": [],
   "source": []
  },
  {
   "cell_type": "code",
   "execution_count": 4,
   "id": "67830369-05d0-48ef-a885-49d2ffd70688",
   "metadata": {},
   "outputs": [
    {
     "ename": "NameError",
     "evalue": "name 'queue' is not defined",
     "output_type": "error",
     "traceback": [
      "\u001b[1;31m---------------------------------------------------------------------------\u001b[0m",
      "\u001b[1;31mNameError\u001b[0m                                 Traceback (most recent call last)",
      "Cell \u001b[1;32mIn[4], line 2\u001b[0m\n\u001b[0;32m      1\u001b[0m clientes_iniciais \u001b[38;5;241m=\u001b[39m [\u001b[38;5;124m\"\u001b[39m\u001b[38;5;124mAna\u001b[39m\u001b[38;5;124m\"\u001b[39m, \u001b[38;5;124m\"\u001b[39m\u001b[38;5;124mMaria\u001b[39m\u001b[38;5;124m\"\u001b[39m, \u001b[38;5;124m\"\u001b[39m\u001b[38;5;124mJoão\u001b[39m\u001b[38;5;124m\"\u001b[39m, \u001b[38;5;124m\"\u001b[39m\u001b[38;5;124mPedro\u001b[39m\u001b[38;5;124m\"\u001b[39m, \u001b[38;5;124m\"\u001b[39m\u001b[38;5;124mJorge\u001b[39m\u001b[38;5;124m\"\u001b[39m, \u001b[38;5;124m\"\u001b[39m\u001b[38;5;124mJoana\u001b[39m\u001b[38;5;124m\"\u001b[39m, \u001b[38;5;124m\"\u001b[39m\u001b[38;5;124mMilena\u001b[39m\u001b[38;5;124m\"\u001b[39m, \u001b[38;5;124m\"\u001b[39m\u001b[38;5;124mRicardo\u001b[39m\u001b[38;5;124m\"\u001b[39m]\n\u001b[1;32m----> 2\u001b[0m atendimento_banco(clientes_iniciais)\n",
      "Cell \u001b[1;32mIn[3], line 3\u001b[0m, in \u001b[0;36matendimento_banco\u001b[1;34m(clientes)\u001b[0m\n\u001b[0;32m      2\u001b[0m \u001b[38;5;28;01mdef\u001b[39;00m\u001b[38;5;250m \u001b[39m\u001b[38;5;21matendimento_banco\u001b[39m(clientes): \u001b[38;5;66;03m#estou passando a lista\u001b[39;00m\n\u001b[1;32m----> 3\u001b[0m     fila \u001b[38;5;241m=\u001b[39m queue()\n\u001b[0;32m      5\u001b[0m \u001b[38;5;66;03m# Coloca os clientes iniciais na fila\u001b[39;00m\n\u001b[0;32m      6\u001b[0m     \u001b[38;5;28;01mfor\u001b[39;00m cliente \u001b[38;5;129;01min\u001b[39;00m clientes:\n",
      "\u001b[1;31mNameError\u001b[0m: name 'queue' is not defined"
     ]
    }
   ],
   "source": []
  },
  {
   "cell_type": "markdown",
   "id": "2db0bb7c-7dfb-4964-9c7f-96321b8ffdf9",
   "metadata": {},
   "source": [
    "## Exercício 6: Controle de pedidos em um restaurante"
   ]
  },
  {
   "cell_type": "markdown",
   "id": "8be65df8-1077-4742-9676-a13d4acbee6a",
   "metadata": {},
   "source": [
    "Implemente um sistema de controle de pedidos em um restaurante. Os\n",
    "pedidos são colocados em uma fila conforme são recebidos. A cada certo\n",
    "número de minutos, o sistema processa um pedido (remove o primeiro\n",
    "pedido da fila) e adiciona um novo pedido. Continue o processo até que\n",
    "uma condição de parada (número total de pedidos processados) seja\n",
    "atingida.  \n",
    "\n",
    "**Requisitos:**  \n",
    "1.Colocar pedidos na fila.  \n",
    "2.Processar um pedido a cada intervalo e adicionar um novo pedido.  \n",
    "3.Parar o processo após processar um número determinado de pedidos.  "
   ]
  },
  {
   "cell_type": "code",
   "execution_count": 6,
   "id": "a9f25956-489b-408a-bcc4-65b3cd1bcb7d",
   "metadata": {},
   "outputs": [],
   "source": [
    "# Utilização da classe Queue para controle de pedidos\n",
    "def controle_pedidos(pedidos, num_processados):\n",
    "    fila = Queue()\n",
    "\n",
    "# Adicionando os pedidos iniciais na fila\n",
    "    for pedido in pedidos:\n",
    "        fila.enqueue(pedido)\n",
    "\n",
    "    pedidos_processados = 0\n",
    "\n",
    "# Processamento de pedidos\n",
    "    while pedidos_processados < num_processados:\n",
    "# Processa o pedido no início da fila\n",
    "        print(f\"Processando pedido: {fila.dequeue()}\")\n",
    "        pedidos_processados += 1\n",
    "\n",
    "# Adicionando um novo pedido\n",
    "        novo_pedido = f\"Pedido {pedidos_processados + len(pedidos)}\"\n",
    "        fila.enqueue(novo_pedido)\n",
    "        print(f\"Novo pedido adicionado: {novo_pedido}\")\n",
    "\n",
    "        "
   ]
  },
  {
   "cell_type": "code",
   "execution_count": 7,
   "id": "297b8746-b0c0-48d5-b272-01a86c4ec914",
   "metadata": {},
   "outputs": [
    {
     "ename": "NameError",
     "evalue": "name 'Queue' is not defined",
     "output_type": "error",
     "traceback": [
      "\u001b[1;31m---------------------------------------------------------------------------\u001b[0m",
      "\u001b[1;31mNameError\u001b[0m                                 Traceback (most recent call last)",
      "Cell \u001b[1;32mIn[7], line 2\u001b[0m\n\u001b[0;32m      1\u001b[0m pedidos_iniciais \u001b[38;5;241m=\u001b[39m [\u001b[38;5;124m\"\u001b[39m\u001b[38;5;124mPedido 1\u001b[39m\u001b[38;5;124m\"\u001b[39m, \u001b[38;5;124m\"\u001b[39m\u001b[38;5;124mPedido 2\u001b[39m\u001b[38;5;124m\"\u001b[39m, \u001b[38;5;124m\"\u001b[39m\u001b[38;5;124mPedido 3\u001b[39m\u001b[38;5;124m\"\u001b[39m, \u001b[38;5;124m\"\u001b[39m\u001b[38;5;124mPedido 4\u001b[39m\u001b[38;5;124m\"\u001b[39m]\n\u001b[1;32m----> 2\u001b[0m controle_pedidos(pedidos_iniciais, \u001b[38;5;241m5\u001b[39m)\n",
      "Cell \u001b[1;32mIn[6], line 3\u001b[0m, in \u001b[0;36mcontrole_pedidos\u001b[1;34m(pedidos, num_processados)\u001b[0m\n\u001b[0;32m      2\u001b[0m \u001b[38;5;28;01mdef\u001b[39;00m\u001b[38;5;250m \u001b[39m\u001b[38;5;21mcontrole_pedidos\u001b[39m(pedidos, num_processados):\n\u001b[1;32m----> 3\u001b[0m     fila \u001b[38;5;241m=\u001b[39m Queue()\n\u001b[0;32m      5\u001b[0m \u001b[38;5;66;03m# Adicionando os pedidos iniciais na fila\u001b[39;00m\n\u001b[0;32m      6\u001b[0m     \u001b[38;5;28;01mfor\u001b[39;00m pedido \u001b[38;5;129;01min\u001b[39;00m pedidos:\n",
      "\u001b[1;31mNameError\u001b[0m: name 'Queue' is not defined"
     ]
    }
   ],
   "source": [
    "pedidos_iniciais = [\"Pedido 1\", \"Pedido 2\", \"Pedido 3\", \"Pedido 4\"]\n",
    "controle_pedidos(pedidos_iniciais, 5)"
   ]
  },
  {
   "cell_type": "code",
   "execution_count": null,
   "id": "58320057-50d9-441d-b70f-275fc12c6e5d",
   "metadata": {},
   "outputs": [],
   "source": []
  }
 ],
 "metadata": {
  "kernelspec": {
   "display_name": "Python 3 (ipykernel)",
   "language": "python",
   "name": "python3"
  },
  "language_info": {
   "codemirror_mode": {
    "name": "ipython",
    "version": 3
   },
   "file_extension": ".py",
   "mimetype": "text/x-python",
   "name": "python",
   "nbconvert_exporter": "python",
   "pygments_lexer": "ipython3",
   "version": "3.13.5"
  }
 },
 "nbformat": 4,
 "nbformat_minor": 5
}
