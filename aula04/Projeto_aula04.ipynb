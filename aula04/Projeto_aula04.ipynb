{
 "cells": [
  {
   "cell_type": "markdown",
   "id": "898ee298-c13c-437f-a271-e13ac4e74233",
   "metadata": {},
   "source": [
    "## PROJETO"
   ]
  },
  {
   "cell_type": "markdown",
   "id": "0e8c1854-8bc1-41e9-b702-1f8cb8eaef53",
   "metadata": {},
   "source": [
    "**Busca Eficiente em um índice de Livros**  \n",
    "\n",
    "**Contexto:** Você está trabalhando em um projeto para gerenciar uma biblioteca. As informações sobre os livros **(título, autor, ano de publicação)** estão armazenadas em uma _lista_, e essa lista é mantida ordenada alfabeticamente pelo título do livro.  \n",
    "**Problema:** Os usuários precisam encontrar rapidamente um livro específico sabendo seu título. _Uma busca ineficiente pode dificultar a localização dos livros desejados._"
   ]
  },
  {
   "cell_type": "code",
   "execution_count": 1,
   "id": "40f34ecb-5a21-4e2e-9167-919e04008a0b",
   "metadata": {},
   "outputs": [],
   "source": [
    "lista_livros = [(\"A Metamorfose\", \"Franz Kafka\", \"1915\"),\n",
    "(\"Cem Anos de Solidão\", \"Gabriel García Márquez\", \"1967\"),\n",
    "(\"Dom Casmurro\", \"Machado de Assis\", \"1899\"),\n",
    "(\"Dom Quixote\", \"Miguel de Cervantes\", \"1605-1615\"),\n",
    "(\"Em Busca do Tempo Perdido\" , \"Marcel Proust\", \"1913\"),\n",
    "(\"Frankenstein\", \"Mary Shelley\", \"1818\"),\n",
    "(\"O Estrangeiro\", \"Albert Camus\", \"1942\"),\n",
    "(\"O Principezinho\", \"Antoine de Saint-Exupéry\", \"1943\"),\n",
    "(\"O Sol é Para Todos\", \"Harper Lee\" , \"1960\"),\n",
    "(\"Vidas Secas\", \"Graciliano Ramos\", \"1938\") ]"
   ]
  },
  {
   "cell_type": "code",
   "execution_count": 2,
   "id": "52054edf-bb2e-4e86-b79d-1b5b64581bdd",
   "metadata": {},
   "outputs": [],
   "source": [
    "def busca_livros(nome, lista_livros):\n",
    "  esquerda = 0\n",
    "  direita = len(lista_livros) - 1\n",
    "  while esquerda <= direita:\n",
    "    meio = (esquerda + direita) // 2\n",
    "    if nome.upper() == lista_livros[meio][0].upper():\n",
    "      return meio\n",
    "    elif nome.upper() < lista_livros[meio][0].upper():\n",
    "      direita = meio - 1\n",
    "    else:\n",
    "      esquerda = meio + 1\n",
    "  return \"Livro não encontrado!\""
   ]
  },
  {
   "cell_type": "code",
   "execution_count": 3,
   "id": "a0fe7e0a-9a78-4791-8e26-b6eb9b2de0bd",
   "metadata": {},
   "outputs": [
    {
     "name": "stdin",
     "output_type": "stream",
     "text": [
      "Digite o título do livro desejado:  vidas secas\n"
     ]
    },
    {
     "name": "stdout",
     "output_type": "stream",
     "text": [
      "Encontrado o livro: \n",
      "('Vidas Secas', 'Graciliano Ramos', '1938')\n"
     ]
    }
   ],
   "source": [
    "nome = input(\"Digite o título do livro desejado: \").strip().upper()\n",
    "livro_encontrado = busca_livros(nome, lista_livros)\n",
    "\n",
    "print(\"Encontrado o livro: \")\n",
    "print(lista_livros[livro_encontrado])"
   ]
  },
  {
   "cell_type": "code",
   "execution_count": null,
   "id": "c2351baa-e274-400a-a7ad-c95c9f280142",
   "metadata": {},
   "outputs": [],
   "source": []
  }
 ],
 "metadata": {
  "kernelspec": {
   "display_name": "Python 3 (ipykernel)",
   "language": "python",
   "name": "python3"
  },
  "language_info": {
   "codemirror_mode": {
    "name": "ipython",
    "version": 3
   },
   "file_extension": ".py",
   "mimetype": "text/x-python",
   "name": "python",
   "nbconvert_exporter": "python",
   "pygments_lexer": "ipython3",
   "version": "3.13.5"
  }
 },
 "nbformat": 4,
 "nbformat_minor": 5
}
