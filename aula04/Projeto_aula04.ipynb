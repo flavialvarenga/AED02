{
 "cells": [
  {
   "cell_type": "markdown",
   "id": "898ee298-c13c-437f-a271-e13ac4e74233",
   "metadata": {},
   "source": [
    "## PROJETO"
   ]
  },
  {
   "cell_type": "markdown",
   "id": "0e8c1854-8bc1-41e9-b702-1f8cb8eaef53",
   "metadata": {},
   "source": [
    "**Busca Eficiente em um índice de Livros**  \n",
    "\n",
    "**Contexto:** Você está trabalhando em um projeto para gerenciar uma biblioteca. As informações sobre os livros **(título, autor, ano de publicação)** estão armazenadas em uma _lista_, e essa lista é mantida ordenada alfabeticamente pelo título do livro.  \n",
    "**Problema:** Os usuários precisam encontrar rapidamente um livro específico sabendo seu título. _Uma busca ineficiente pode dificultar a localização dos livros desejados._"
   ]
  },
  {
   "cell_type": "code",
   "execution_count": 34,
   "id": "40f34ecb-5a21-4e2e-9167-919e04008a0b",
   "metadata": {},
   "outputs": [],
   "source": [
    "lista_livros = [(\"A Metamorfose\", \"de Franz Kafka\", \"1915\"),\n",
    "(\"Cem Anos de Solidão\", \"de Gabriel García Márquez\", \"1967\"),\n",
    "(\"Dom Casmurro\", \"de Machado de Assis\", \"1899\"),\n",
    "(\"Dom Quixote\", \"de Miguel de Cervantes\", \"1605\"),\n",
    "(\"Em Busca do Tempo Perdido\" , \"de Marcel Proust\", \"1913\"),\n",
    "(\"Frankenstein\", \"de Mary Shelley\", \"1818\"),\n",
    "(\"O Estrangeiro\", \"de Albert Camus\", \"1942\"),\n",
    "(\"O Principezinho\", \"de Antoine de Saint-Exupéry\", \"1943\"),\n",
    "(\"O Sol é Para Todos\", \"de Harper Lee\" , \"1960\"),\n",
    "(\"Vidas Secas\", \"de Graciliano Ramos\", \"1938\") ]"
   ]
  },
  {
   "cell_type": "code",
   "execution_count": 35,
   "id": "52054edf-bb2e-4e86-b79d-1b5b64581bdd",
   "metadata": {},
   "outputs": [],
   "source": [
    "def busca_livros(nome, lista_livros):\n",
    "  esquerda = 0\n",
    "  direita = len(lista_livros) - 1\n",
    "  while esquerda <= direita:\n",
    "    meio = (esquerda + direita) // 2\n",
    "    if nome.upper() == lista_livros[meio][0].upper():\n",
    "      return meio\n",
    "    elif nome.upper() < lista_livros[meio][0].upper():\n",
    "      direita = meio - 1\n",
    "    else:\n",
    "      esquerda = meio + 1\n",
    "  return -1"
   ]
  },
  {
   "cell_type": "code",
   "execution_count": 36,
   "id": "a0fe7e0a-9a78-4791-8e26-b6eb9b2de0bd",
   "metadata": {},
   "outputs": [
    {
     "name": "stdin",
     "output_type": "stream",
     "text": [
      "Digite o título do livro desejado: Dom quixote\n"
     ]
    },
    {
     "name": "stdout",
     "output_type": "stream",
     "text": [
      "\n",
      "Encontrado o livro:\n",
      "('Dom Quixote', 'de Miguel de Cervantes', '1605')\n"
     ]
    }
   ],
   "source": [
    "nome = input(\"Digite o título do livro desejado:\").strip().upper()\n",
    "livro_encontrado = busca_livros(nome, lista_livros)\n",
    "\n",
    "if livro_encontrado == -1:\n",
    "    print(\"\\nLivro não encontrado!\")\n",
    "else:\n",
    "    print(\"\\nEncontrado o livro:\")\n",
    "    print(lista_livros[livro_encontrado])"
   ]
  },
  {
   "cell_type": "code",
   "execution_count": null,
   "id": "c2351baa-e274-400a-a7ad-c95c9f280142",
   "metadata": {},
   "outputs": [],
   "source": []
  }
 ],
 "metadata": {
  "kernelspec": {
   "display_name": "Python 3 (ipykernel)",
   "language": "python",
   "name": "python3"
  },
  "language_info": {
   "codemirror_mode": {
    "name": "ipython",
    "version": 3
   },
   "file_extension": ".py",
   "mimetype": "text/x-python",
   "name": "python",
   "nbconvert_exporter": "python",
   "pygments_lexer": "ipython3",
   "version": "3.12.7"
  }
 },
 "nbformat": 4,
 "nbformat_minor": 5
}
