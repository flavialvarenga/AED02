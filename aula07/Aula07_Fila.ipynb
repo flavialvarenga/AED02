{
 "cells": [
  {
   "cell_type": "markdown",
   "metadata": {},
   "source": [
    "![Algoritmos e Estrutura de Dados II - Prof Piva](AED2_banner.jpg)"
   ]
  },
  {
   "cell_type": "markdown",
   "metadata": {
    "id": "3L3hMZxPloS9"
   },
   "source": [
    "## Aula 7 - Filas"
   ]
  },
  {
   "cell_type": "markdown",
   "metadata": {},
   "source": [
    "### Primeira Implementação"
   ]
  },
  {
   "cell_type": "code",
   "execution_count": 63,
   "metadata": {},
   "outputs": [],
   "source": [
    "# Implementação da classe Fila\n",
    "class Queue:\n",
    "    # Inicia com uma fila vazia\n",
    "    def __init__(self):\n",
    "        self.itens = []\n",
    "        \n",
    "    # Verifica se fila está vazia\n",
    "    def is_empty(self):\n",
    "        return self.itens == []\n",
    "        \n",
    "    # Adiciona elemento no início da fila, tem o 1 parametro que é o lugar que eu quero inserir, o segundo é o que eu quero inserir (altera o sentido de inserir e retirar)\n",
    "    def enqueue(self, item):\n",
    "        self.itens.insert(0, item)\n",
    "        print('ENQUEUE %s' %item)\n",
    "        \n",
    "    # Remove elemento do final da fila\n",
    "    def dequeue(self):\n",
    "        print('DEQUEUE')\n",
    "        return self.itens.pop()\n",
    "        \n",
    "    # Retorna o número de elementos da fila\n",
    "    def size(self):\n",
    "        return len(self.itens)\n",
    "        \n",
    "    # Imprime a fila na tela\n",
    "    def print_queue(self):\n",
    "        print(self.itens)"
   ]
  },
  {
   "cell_type": "code",
   "execution_count": 64,
   "metadata": {},
   "outputs": [],
   "source": [
    "# TESTANDO *NA VERDADE O Q DEVE SER MINÚSCULO PORQUE É OBJETO\n",
    "Q = Queue()"
   ]
  },
  {
   "cell_type": "code",
   "execution_count": 65,
   "metadata": {},
   "outputs": [
    {
     "name": "stdout",
     "output_type": "stream",
     "text": [
      "[]\n"
     ]
    }
   ],
   "source": [
    "Q.print_queue()"
   ]
  },
  {
   "cell_type": "code",
   "execution_count": 66,
   "metadata": {},
   "outputs": [
    {
     "name": "stdout",
     "output_type": "stream",
     "text": [
      "<__main__.Queue object at 0x000001CE028A6900>\n"
     ]
    }
   ],
   "source": [
    "print(Q) # Vai mostrar o endereço de memória"
   ]
  },
  {
   "cell_type": "code",
   "execution_count": 67,
   "metadata": {},
   "outputs": [
    {
     "name": "stdout",
     "output_type": "stream",
     "text": [
      "ENQUEUE 1\n"
     ]
    }
   ],
   "source": [
    "Q.enqueue(1)"
   ]
  },
  {
   "cell_type": "code",
   "execution_count": 68,
   "metadata": {},
   "outputs": [
    {
     "name": "stdout",
     "output_type": "stream",
     "text": [
      "ENQUEUE 2\n"
     ]
    }
   ],
   "source": [
    "Q.enqueue(2)"
   ]
  },
  {
   "cell_type": "code",
   "execution_count": 69,
   "metadata": {},
   "outputs": [
    {
     "name": "stdout",
     "output_type": "stream",
     "text": [
      "ENQUEUE 3\n"
     ]
    }
   ],
   "source": [
    "Q.enqueue(3)"
   ]
  },
  {
   "cell_type": "code",
   "execution_count": 70,
   "metadata": {},
   "outputs": [
    {
     "name": "stdout",
     "output_type": "stream",
     "text": [
      "[3, 2, 1]\n"
     ]
    }
   ],
   "source": [
    "Q.print_queue() # esta sendo inserido na posição 0"
   ]
  },
  {
   "cell_type": "code",
   "execution_count": 71,
   "metadata": {},
   "outputs": [
    {
     "name": "stdout",
     "output_type": "stream",
     "text": [
      "DEQUEUE\n"
     ]
    },
    {
     "data": {
      "text/plain": [
       "1"
      ]
     },
     "execution_count": 71,
     "metadata": {},
     "output_type": "execute_result"
    }
   ],
   "source": [
    "Q.dequeue()"
   ]
  },
  {
   "cell_type": "code",
   "execution_count": 72,
   "metadata": {},
   "outputs": [
    {
     "name": "stdout",
     "output_type": "stream",
     "text": [
      "DEQUEUE\n"
     ]
    },
    {
     "data": {
      "text/plain": [
       "2"
      ]
     },
     "execution_count": 72,
     "metadata": {},
     "output_type": "execute_result"
    }
   ],
   "source": [
    "Q.dequeue()"
   ]
  },
  {
   "cell_type": "code",
   "execution_count": 73,
   "metadata": {},
   "outputs": [
    {
     "name": "stdout",
     "output_type": "stream",
     "text": [
      "[3]\n"
     ]
    }
   ],
   "source": [
    "Q.print_queue()"
   ]
  },
  {
   "cell_type": "code",
   "execution_count": 74,
   "metadata": {},
   "outputs": [
    {
     "name": "stdout",
     "output_type": "stream",
     "text": [
      "ENQUEUE 7\n"
     ]
    }
   ],
   "source": [
    "Q.enqueue(7)"
   ]
  },
  {
   "cell_type": "code",
   "execution_count": 75,
   "metadata": {},
   "outputs": [
    {
     "name": "stdout",
     "output_type": "stream",
     "text": [
      "ENQUEUE 8\n"
     ]
    }
   ],
   "source": [
    "Q.enqueue(8)"
   ]
  },
  {
   "cell_type": "code",
   "execution_count": 76,
   "metadata": {},
   "outputs": [
    {
     "name": "stdout",
     "output_type": "stream",
     "text": [
      "ENQUEUE 9\n"
     ]
    }
   ],
   "source": [
    "Q.enqueue(9)"
   ]
  },
  {
   "cell_type": "code",
   "execution_count": 77,
   "metadata": {},
   "outputs": [
    {
     "name": "stdout",
     "output_type": "stream",
     "text": [
      "[9, 8, 7, 3]\n"
     ]
    }
   ],
   "source": [
    "Q.print_queue()"
   ]
  },
  {
   "cell_type": "code",
   "execution_count": 78,
   "metadata": {},
   "outputs": [
    {
     "name": "stdout",
     "output_type": "stream",
     "text": [
      "False\n"
     ]
    }
   ],
   "source": [
    "print(Q.is_empty())"
   ]
  },
  {
   "cell_type": "markdown",
   "metadata": {},
   "source": [
    "### Segunda Implementação\n",
    "Listas Circulares"
   ]
  },
  {
   "cell_type": "code",
   "execution_count": 79,
   "metadata": {},
   "outputs": [],
   "source": [
    "import numpy as np # as é um apelido que vai substituir digitar o numpy por apenas NP"
   ]
  },
  {
   "cell_type": "code",
   "execution_count": 80,
   "metadata": {},
   "outputs": [],
   "source": [
    "class FilaCircular:\n",
    "\n",
    "  def __init__(self, capacidade):\n",
    "    self.capacidade = capacidade\n",
    "    self.inicio = 0\n",
    "    self.final = -1\n",
    "    self.numero_elementos = 0\n",
    "    self.valores = np.empty(self.capacidade, dtype=int) #somente elementos inteiros farão parte da fila o dtype=int\n",
    "#empty vai criar um vetor de uma dimensão\n",
    "    \n",
    "  def __fila_vazia(self): #consulta apenas interna\n",
    "    return self.numero_elementos == 0\n",
    "\n",
    "  def __fila_cheia(self): #consulta apenas interna\n",
    "    return self.numero_elementos == self.capacidade #quantidade de elementos que terei\n",
    "\n",
    "  def enfileirar(self, valor): #aqui seria o enqueau\n",
    "    if self.__fila_cheia(): # primeiro eu preciso ver se eu tenho espaço para poder inserir\n",
    "      print('A fila está cheia')\n",
    "      return\n",
    "\n",
    "    if self.final == self.capacidade - 1: # aqui ele vai fazer -1+1 = 0, então vai jogar o novo elemento para a posição 0\n",
    "      self.final = -1 # quando for -1 significa que não tem ninguém lá dentro, isso apenas qnd eu inicializo a fila\n",
    "    self.final += 1\n",
    "    self.valores[self.final] = valor\n",
    "    self.numero_elementos += 1\n",
    "\n",
    "  def desenfileirar(self):\n",
    "    if self.__fila_vazia(): # primeiro vai verificar se a lista não está vazia\n",
    "      print('A fila já está vazia')\n",
    "      return\n",
    "\n",
    "    temp = self.valores[self.inicio] # se tiver alguém na fila, coloco o início dentro de uma variável temporária que é o TEMP\n",
    "    self.inicio += 1\n",
    "    if self.inicio == self.capacidade: # se começar a somar, ele recebe zero para o início\n",
    "      self.inicio = 0\n",
    "    self.numero_elementos -= 1\n",
    "    return temp\n",
    "\n",
    "  def primeiro(self):\n",
    "    if self.__fila_vazia():\n",
    "      return -1\n",
    "    return self.valores[self.inicio] # aqui vai mostrar só quem está no início\n"
   ]
  },
  {
   "cell_type": "code",
   "execution_count": 81,
   "metadata": {},
   "outputs": [],
   "source": [
    "fila = FilaCircular(5) # o 5 é referente a quantidade de posições máximas"
   ]
  },
  {
   "cell_type": "code",
   "execution_count": 82,
   "metadata": {},
   "outputs": [
    {
     "data": {
      "text/plain": [
       "-1"
      ]
     },
     "execution_count": 82,
     "metadata": {},
     "output_type": "execute_result"
    }
   ],
   "source": [
    "fila.primeiro()"
   ]
  },
  {
   "cell_type": "code",
   "execution_count": 83,
   "metadata": {},
   "outputs": [
    {
     "data": {
      "text/plain": [
       "np.int64(1)"
      ]
     },
     "execution_count": 83,
     "metadata": {},
     "output_type": "execute_result"
    }
   ],
   "source": [
    "# 1\n",
    "fila.enfileirar(1)\n",
    "fila.primeiro()"
   ]
  },
  {
   "cell_type": "code",
   "execution_count": 84,
   "metadata": {},
   "outputs": [
    {
     "data": {
      "text/plain": [
       "np.int64(1)"
      ]
     },
     "execution_count": 84,
     "metadata": {},
     "output_type": "execute_result"
    }
   ],
   "source": [
    "# 2 1\n",
    "fila.enfileirar(2)\n",
    "fila.primeiro()"
   ]
  },
  {
   "cell_type": "code",
   "execution_count": 85,
   "metadata": {},
   "outputs": [],
   "source": [
    "# 5 4 3 2 1\n",
    "fila.enfileirar(3)\n",
    "fila.enfileirar(4)\n",
    "fila.enfileirar(5)"
   ]
  },
  {
   "cell_type": "code",
   "execution_count": 86,
   "metadata": {},
   "outputs": [
    {
     "name": "stdout",
     "output_type": "stream",
     "text": [
      "A fila está cheia\n"
     ]
    }
   ],
   "source": [
    "fila.enfileirar(6)"
   ]
  },
  {
   "cell_type": "code",
   "execution_count": 87,
   "metadata": {},
   "outputs": [
    {
     "data": {
      "text/plain": [
       "np.int64(3)"
      ]
     },
     "execution_count": 87,
     "metadata": {},
     "output_type": "execute_result"
    }
   ],
   "source": [
    "# 5 4 3\n",
    "fila.desenfileirar()\n",
    "fila.desenfileirar()\n",
    "fila.primeiro()"
   ]
  },
  {
   "cell_type": "code",
   "execution_count": 88,
   "metadata": {},
   "outputs": [],
   "source": [
    "# 7 6 5 4 3\n",
    "fila.enfileirar(6)\n",
    "fila.enfileirar(7)"
   ]
  },
  {
   "cell_type": "code",
   "execution_count": 89,
   "metadata": {},
   "outputs": [
    {
     "data": {
      "text/plain": [
       "np.int64(3)"
      ]
     },
     "execution_count": 89,
     "metadata": {},
     "output_type": "execute_result"
    }
   ],
   "source": [
    "fila.primeiro()"
   ]
  },
  {
   "cell_type": "code",
   "execution_count": 90,
   "metadata": {},
   "outputs": [
    {
     "data": {
      "text/plain": [
       "array([6, 7, 3, 4, 5])"
      ]
     },
     "execution_count": 90,
     "metadata": {},
     "output_type": "execute_result"
    }
   ],
   "source": [
    "fila.valores # ele vai imprimir a fila"
   ]
  },
  {
   "cell_type": "code",
   "execution_count": 91,
   "metadata": {},
   "outputs": [
    {
     "data": {
      "text/plain": [
       "(2, 1)"
      ]
     },
     "execution_count": 91,
     "metadata": {},
     "output_type": "execute_result"
    }
   ],
   "source": [
    "fila.inicio, fila.final"
   ]
  },
  {
   "cell_type": "code",
   "execution_count": 92,
   "metadata": {},
   "outputs": [
    {
     "data": {
      "text/plain": [
       "np.int64(7)"
      ]
     },
     "execution_count": 92,
     "metadata": {},
     "output_type": "execute_result"
    }
   ],
   "source": [
    "fila.valores[fila.final]"
   ]
  },
  {
   "cell_type": "code",
   "execution_count": 93,
   "metadata": {},
   "outputs": [
    {
     "data": {
      "text/plain": [
       "np.int64(3)"
      ]
     },
     "execution_count": 93,
     "metadata": {},
     "output_type": "execute_result"
    }
   ],
   "source": [
    "fila.valores[fila.inicio]"
   ]
  },
  {
   "cell_type": "markdown",
   "metadata": {},
   "source": [
    "### Terceira Implementação\n",
    "**Listas com Prioridade (Priority Queue)**"
   ]
  },
  {
   "cell_type": "markdown",
   "metadata": {},
   "source": [
    "Uma fila de prioridades é uma extensão da fila tradicional em que, para cada elemento inserido, uma prioridade p deve ser associada. \n",
    "\n",
    "Por convenção, inteiros positivos são utilizados para representar a prioridade, sendo que quanto menor o inteiro, maior a prioridade (ou seja, p = 2 tem\n",
    "prioridade sobre p = 5). \n",
    "\n",
    "A principal diferença em relação a fila tradicional é o método enqueue(), que todo elemento deve ser inserido no final da fila, mas a remoção não é feita no início da fila e sim descobrindo o elemento que possui a maior prioridade. Quanto maior a prioridade, menor o inteiro que a codifica.\n",
    "\n",
    "A primeira coisa que devemos fazer é criar uma classe para definir a estrutura interna de um elemento da fila de prioridades. Isso é necessário pois além de armazenar a informação referente ao elemento em si (um número, uma string, etc), precisamos de uma variável para armazenar o prioridade. \n",
    "\n",
    "Vamos implementá-la!!"
   ]
  },
  {
   "cell_type": "code",
   "execution_count": 94,
   "metadata": {
    "id": "7R1oTn1dqV1l"
   },
   "outputs": [],
   "source": [
    "# Implementa classe que será utilizada como elemento da fila\n",
    "class Element:\n",
    "    def __init__(self, valor, prioridade):\n",
    "        self.item = valor\n",
    "        self.prioridade = prioridade\n",
    "    \n",
    "    def __str__(self):\n",
    "        return str(self.item) + ' ' + str(self.prioridade) #estou redefinindo o método str, para imprimir o item e a prioridade (função que converte um número inteiro em string)"
   ]
  },
  {
   "cell_type": "code",
   "execution_count": 95,
   "metadata": {
    "id": "uTsNap9FqYXN"
   },
   "outputs": [],
   "source": [
    "# Implementação da classe fila\n",
    "class PriorityQueue:\n",
    "    # Inicia com uma fila vazia\n",
    "    def __init__(self):\n",
    "        self.itens = []\n",
    "        \n",
    "    # Verifica se fila está vazia\n",
    "    def is_empty(self):\n",
    "        return self.itens == []\n",
    "        \n",
    "    # Retorna o número de elementos da fila\n",
    "    def size(self):\n",
    "        return len(self.itens)\n",
    "        \n",
    "    # Adiciona elemento no final da fila com sua prioridade\n",
    "    def enqueue(self, item, prioridade): #enfileiramento, passo os dois parâmetros\n",
    "        elemento = Element(item, prioridade) #aqui cria um objeto encapsulado com esses dois elementos\n",
    "        self.itens.insert(0, elemento)\n",
    "        print('ENQUEUE %s' %elemento) #aqui vai sair o valor prioridade\n",
    "        \n",
    "    # Remove elemento com maior prioridade\n",
    "    def dequeue(self):\n",
    "        if self.is_empty():\n",
    "            print('EMPTY QUEUE')\n",
    "        else:\n",
    "            print('DEQUEUE')\n",
    "            posicao = 0 #inicializo a primeira posição, e começo do zero e passo por todos os elementos da fila\n",
    "            menor = self.itens[posicao].prioridade\n",
    "    \n",
    "            # Encontra o elemento de maior prioridade\n",
    "            for i in range(self.size()): #looping que vai percorrer todo mundo, inclusive o zero\n",
    "                if self.itens[i].prioridade < menor: #itens vai pegar o elemento / prioridade vai pegar o atributo do elemento\n",
    "                    posicao = i # se for a menor vai ocupar a posição\n",
    "                    menor = self.itens[i].prioridade\n",
    "                    \n",
    "            # Remove elemento da fila\n",
    "            removido = self.itens.pop(posicao)\n",
    "            return removido.item\n",
    "            \n",
    "    # Imprime pilha na tela\n",
    "    def print_queue(self):\n",
    "        L = [] #inicia a lista vazia porque preciso guardar os elementos sem a prioridade\n",
    "        for x in self.itens:\n",
    "            L.append(x.item)\n",
    "        print(L)"
   ]
  },
  {
   "cell_type": "code",
   "execution_count": 96,
   "metadata": {},
   "outputs": [],
   "source": [
    "#TESTANDO\n",
    "PQ = PriorityQueue()"
   ]
  },
  {
   "cell_type": "code",
   "execution_count": 97,
   "metadata": {},
   "outputs": [
    {
     "name": "stdout",
     "output_type": "stream",
     "text": [
      "[]\n"
     ]
    }
   ],
   "source": [
    "PQ.print_queue()"
   ]
  },
  {
   "cell_type": "code",
   "execution_count": 98,
   "metadata": {},
   "outputs": [
    {
     "name": "stdout",
     "output_type": "stream",
     "text": [
      "ENQUEUE a 4\n"
     ]
    }
   ],
   "source": [
    "PQ.enqueue('a', 4)"
   ]
  },
  {
   "cell_type": "code",
   "execution_count": 99,
   "metadata": {},
   "outputs": [
    {
     "name": "stdout",
     "output_type": "stream",
     "text": [
      "ENQUEUE b 2\n"
     ]
    }
   ],
   "source": [
    "PQ.enqueue('b', 2)"
   ]
  },
  {
   "cell_type": "code",
   "execution_count": 100,
   "metadata": {},
   "outputs": [
    {
     "name": "stdout",
     "output_type": "stream",
     "text": [
      "ENQUEUE c 3\n"
     ]
    }
   ],
   "source": [
    "PQ.enqueue('c', 3)"
   ]
  },
  {
   "cell_type": "code",
   "execution_count": 101,
   "metadata": {},
   "outputs": [
    {
     "data": {
      "text/plain": [
       "<bound method PriorityQueue.print_queue of <__main__.PriorityQueue object at 0x000001CE028A6CF0>>"
      ]
     },
     "execution_count": 101,
     "metadata": {},
     "output_type": "execute_result"
    }
   ],
   "source": [
    "PQ.print_queue # aqui imprimiu somente os valores sem as prioridades"
   ]
  },
  {
   "cell_type": "code",
   "execution_count": 102,
   "metadata": {},
   "outputs": [
    {
     "name": "stdout",
     "output_type": "stream",
     "text": [
      "DEQUEUE\n"
     ]
    },
    {
     "data": {
      "text/plain": [
       "'b'"
      ]
     },
     "execution_count": 102,
     "metadata": {},
     "output_type": "execute_result"
    }
   ],
   "source": [
    "PQ.dequeue()"
   ]
  },
  {
   "cell_type": "code",
   "execution_count": 103,
   "metadata": {},
   "outputs": [
    {
     "name": "stdout",
     "output_type": "stream",
     "text": [
      "['c', 'a']\n"
     ]
    }
   ],
   "source": [
    "PQ.print_queue()"
   ]
  },
  {
   "cell_type": "markdown",
   "metadata": {},
   "source": [
    "# Vamos à Prática!\n",
    "## Exercício\n",
    "### Jogo: Batata Quente"
   ]
  },
  {
   "attachments": {},
   "cell_type": "markdown",
   "metadata": {},
   "source": [
    "Neste jogo, as crianças formam um círculo e passam um item qualquer (batata) cada um para o seu vizinho da frente o mais rápido possível. \r\n",
    "Em um certo momento do jogo, essa ação é interrompida (queimou) e a criança que estiver com o item (batata) na mão é excluída da roda. \r\n",
    "O jogo então prossegue até que reste apenas uma única criança, que é a vencedora.\r\n",
    "Para simular um círculo (roda), utilizaremos uma fila da seguinte maneira: a criança que está com a batata na mão será sempre a quela que estiver no início da fila. Após passar a batata, a simulação deve instantaneamente remover e inserir a criança, colocando-a novamente no final da fila. Ela então vai esperar até que todas as outras assumam o início da fila, antes de assumir essa posição novamente. \r\n",
    "Após um número pré estabelecido MAX de operações enqueue/dequeue, a criança que ocupar o início da fila será removida e outro ciclo da brincadeira é realizado. \r\n",
    "O processo continua até que a fila tenha possua tamanhoum. \r\n"
   ]
  },
  {
   "cell_type": "markdown",
   "metadata": {},
   "source": [
    "**Utilização do classe Stack..**"
   ]
  },
  {
   "cell_type": "code",
   "execution_count": 104,
   "metadata": {},
   "outputs": [],
   "source": [
    "# Utilização da classe QUEUE.\n",
    "# Simula o jogo batata_quente\n",
    "def batata_quente(nomes, MAX): # max é a quantidade de rotações\n",
    "    # Cria fila para simular roda\n",
    "    fila = Queue()\n",
    "\n",
    "    # Coloca os N nomes em cada posição\n",
    "    for nome in nomes:\n",
    "        fila.enqueue(nome)\n",
    "        \n",
    "    # Inicia a lógica do jogo\n",
    "    while fila.size() > 1:\n",
    "        # Para simular MAX passagens da batata\n",
    "        for i in range(MAX):\n",
    "            # Remove o primeiro e coloca no final\n",
    "            fila.enqueue(fila.dequeue())\n",
    "    \n",
    "           # Quem parar no ínicio da fila, está com batata\n",
    "           # Deve ser eliminado da fila\n",
    "        fila.dequeue()\n",
    "    \n",
    "    # Após N-1 rodadas, retorna a fila com o vencedor\n",
    "    vencedor = fila.dequeue()\n",
    "    return vencedor"
   ]
  },
  {
   "attachments": {},
   "cell_type": "markdown",
   "metadata": {},
   "source": [
    "### Testando!\n",
    "['Alex','Julia','Carlos','Maria','Ana','Caio']"
   ]
  },
  {
   "cell_type": "code",
   "execution_count": 105,
   "metadata": {},
   "outputs": [
    {
     "name": "stdout",
     "output_type": "stream",
     "text": [
      "ENQUEUE Alex\n",
      "ENQUEUE Julia\n",
      "ENQUEUE Carlos\n",
      "ENQUEUE Maria\n",
      "ENQUEUE Ana\n",
      "ENQUEUE Caio\n",
      "DEQUEUE\n",
      "ENQUEUE Alex\n",
      "DEQUEUE\n",
      "ENQUEUE Julia\n",
      "DEQUEUE\n",
      "ENQUEUE Carlos\n",
      "DEQUEUE\n",
      "ENQUEUE Maria\n",
      "DEQUEUE\n",
      "ENQUEUE Ana\n",
      "DEQUEUE\n",
      "ENQUEUE Caio\n",
      "DEQUEUE\n",
      "ENQUEUE Alex\n",
      "DEQUEUE\n",
      "DEQUEUE\n",
      "ENQUEUE Carlos\n",
      "DEQUEUE\n",
      "ENQUEUE Maria\n",
      "DEQUEUE\n",
      "ENQUEUE Ana\n",
      "DEQUEUE\n",
      "ENQUEUE Caio\n",
      "DEQUEUE\n",
      "ENQUEUE Alex\n",
      "DEQUEUE\n",
      "ENQUEUE Carlos\n",
      "DEQUEUE\n",
      "ENQUEUE Maria\n",
      "DEQUEUE\n",
      "DEQUEUE\n",
      "ENQUEUE Caio\n",
      "DEQUEUE\n",
      "ENQUEUE Alex\n",
      "DEQUEUE\n",
      "ENQUEUE Carlos\n",
      "DEQUEUE\n",
      "ENQUEUE Maria\n",
      "DEQUEUE\n",
      "ENQUEUE Caio\n",
      "DEQUEUE\n",
      "ENQUEUE Alex\n",
      "DEQUEUE\n",
      "ENQUEUE Carlos\n",
      "DEQUEUE\n",
      "DEQUEUE\n",
      "ENQUEUE Caio\n",
      "DEQUEUE\n",
      "ENQUEUE Alex\n",
      "DEQUEUE\n",
      "ENQUEUE Carlos\n",
      "DEQUEUE\n",
      "ENQUEUE Caio\n",
      "DEQUEUE\n",
      "ENQUEUE Alex\n",
      "DEQUEUE\n",
      "ENQUEUE Carlos\n",
      "DEQUEUE\n",
      "ENQUEUE Caio\n",
      "DEQUEUE\n",
      "DEQUEUE\n",
      "ENQUEUE Carlos\n",
      "DEQUEUE\n",
      "ENQUEUE Caio\n",
      "DEQUEUE\n",
      "ENQUEUE Carlos\n",
      "DEQUEUE\n",
      "ENQUEUE Caio\n",
      "DEQUEUE\n",
      "ENQUEUE Carlos\n",
      "DEQUEUE\n",
      "ENQUEUE Caio\n",
      "DEQUEUE\n",
      "ENQUEUE Carlos\n",
      "DEQUEUE\n",
      "DEQUEUE\n",
      "O vencedor é Carlos\n"
     ]
    }
   ],
   "source": [
    "# TESTANDO\n",
    "v = batata_quente(['Alex','Julia','Carlos','Maria','Ana','Caio'], 7) \n",
    "print(f\"O vencedor é {v}\") "
   ]
  },
  {
   "cell_type": "markdown",
   "metadata": {},
   "source": [
    "### Fim Teoria Aula 7"
   ]
  },
  {
   "cell_type": "markdown",
   "metadata": {},
   "source": [
    "## Exercício 5: Atendimento em um banco"
   ]
  },
  {
   "cell_type": "markdown",
   "metadata": {},
   "source": [
    "Simule uma fila de atendimento em um banco, onde as pessoas são chamadas na ordem em que chegaram. O próximo cliente da fila é atendido e removido da fila. A cada três atendimentos, o atendente faz uma pausa, e novos clientes podem ser adicionados à fila durante esse período.  \n",
    "\n",
    "**Requisitos:**  \n",
    "1. Criar a fila com os nomes de clientes.  \n",
    "2. Processar três atendimentos e depois fazer uma pausa.  \n",
    "3. Durante a pausa, adicionar dois novos clientes à fila.  \n",
    "4. Continuar até que todos os clientes tenham sido atendidos."
   ]
  },
  {
   "cell_type": "code",
   "execution_count": 106,
   "metadata": {},
   "outputs": [],
   "source": [
    "# Utilização da classe Queue para o atendimento no banco\n",
    "def atendimento_banco(clientes): #estou passando a lista\n",
    "    fila = Queue()\n",
    "    \n",
    "# Coloca os clientes iniciais na fila\n",
    "    for cliente in clientes:\n",
    "        fila.enqueue(cliente)\n",
    "        \n",
    "    atendimento = 0 #contador\n",
    "    while not fila.is_empty():\n",
    "        if atendimento == 3:\n",
    "            print(\"PAUSA: Adicionando novos clientes.\")\n",
    "            fila.enqueue(\"Novo Cliente 1\")\n",
    "            fila.enqueue(\"Novo Cliente 2\")\n",
    "            atendimento = 0 # Resetando o contador de atendimentos\n",
    "            \n",
    "# Atendendo o próximo cliente da fila\n",
    "        print(f\"Atendendo: {fila.dequeue()}\")\n",
    "        atendimento += 1\n",
    "        "
   ]
  },
  {
   "cell_type": "code",
   "execution_count": 107,
   "metadata": {},
   "outputs": [
    {
     "name": "stdout",
     "output_type": "stream",
     "text": [
      "ENQUEUE Ana\n",
      "ENQUEUE Maria\n",
      "ENQUEUE João\n",
      "ENQUEUE Pedro\n",
      "ENQUEUE Jorge\n",
      "ENQUEUE Joana\n",
      "ENQUEUE Milena\n",
      "ENQUEUE Ricardo\n",
      "DEQUEUE\n",
      "Atendendo: Ana\n",
      "DEQUEUE\n",
      "Atendendo: Maria\n",
      "DEQUEUE\n",
      "Atendendo: João\n",
      "PAUSA: Adicionando novos clientes.\n",
      "ENQUEUE Novo Cliente 1\n",
      "ENQUEUE Novo Cliente 2\n",
      "DEQUEUE\n",
      "Atendendo: Pedro\n",
      "DEQUEUE\n",
      "Atendendo: Jorge\n",
      "DEQUEUE\n",
      "Atendendo: Joana\n",
      "PAUSA: Adicionando novos clientes.\n",
      "ENQUEUE Novo Cliente 1\n",
      "ENQUEUE Novo Cliente 2\n",
      "DEQUEUE\n",
      "Atendendo: Milena\n",
      "DEQUEUE\n",
      "Atendendo: Ricardo\n",
      "DEQUEUE\n",
      "Atendendo: Novo Cliente 1\n",
      "PAUSA: Adicionando novos clientes.\n",
      "ENQUEUE Novo Cliente 1\n",
      "ENQUEUE Novo Cliente 2\n",
      "DEQUEUE\n",
      "Atendendo: Novo Cliente 2\n",
      "DEQUEUE\n",
      "Atendendo: Novo Cliente 1\n",
      "DEQUEUE\n",
      "Atendendo: Novo Cliente 2\n",
      "PAUSA: Adicionando novos clientes.\n",
      "ENQUEUE Novo Cliente 1\n",
      "ENQUEUE Novo Cliente 2\n",
      "DEQUEUE\n",
      "Atendendo: Novo Cliente 1\n",
      "DEQUEUE\n",
      "Atendendo: Novo Cliente 2\n",
      "DEQUEUE\n",
      "Atendendo: Novo Cliente 1\n",
      "PAUSA: Adicionando novos clientes.\n",
      "ENQUEUE Novo Cliente 1\n",
      "ENQUEUE Novo Cliente 2\n",
      "DEQUEUE\n",
      "Atendendo: Novo Cliente 2\n",
      "DEQUEUE\n",
      "Atendendo: Novo Cliente 1\n",
      "DEQUEUE\n",
      "Atendendo: Novo Cliente 2\n"
     ]
    }
   ],
   "source": [
    "clientes_iniciais = [\"Ana\", \"Maria\", \"João\", \"Pedro\", \"Jorge\", \"Joana\", \"Milena\", \"Ricardo\"]\n",
    "atendimento_banco(clientes_iniciais)"
   ]
  },
  {
   "cell_type": "markdown",
   "metadata": {},
   "source": [
    "## Exercício 6: Controle de pedidos em um restaurante"
   ]
  },
  {
   "cell_type": "markdown",
   "metadata": {},
   "source": [
    "Implemente um sistema de controle de pedidos em um restaurante. Os\n",
    "pedidos são colocados em uma fila conforme são recebidos. A cada certo\n",
    "número de minutos, o sistema processa um pedido (remove o primeiro\n",
    "pedido da fila) e adiciona um novo pedido. Continue o processo até que\n",
    "uma condição de parada (número total de pedidos processados) seja\n",
    "atingida.  \n",
    "\n",
    "**Requisitos:**  \n",
    "1.Colocar pedidos na fila.  \n",
    "2.Processar um pedido a cada intervalo e adicionar um novo pedido.  \n",
    "3.Parar o processo após processar um número determinado de pedidos.  "
   ]
  },
  {
   "cell_type": "code",
   "execution_count": 108,
   "metadata": {},
   "outputs": [],
   "source": [
    "# Utilização da classe Queue para controle de pedidos\n",
    "def controle_pedidos(pedidos, num_processados):\n",
    "    fila = Queue()\n",
    "\n",
    "# Adicionando os pedidos iniciais na fila\n",
    "    for pedido in pedidos:\n",
    "        fila.enqueue(pedido)\n",
    "\n",
    "    pedidos_processados = 0\n",
    "\n",
    "# Processamento de pedidos\n",
    "    while pedidos_processados < num_processados:\n",
    "# Processa o pedido no início da fila\n",
    "        print(f\"Processando pedido: {fila.dequeue()}\")\n",
    "        pedidos_processados += 1\n",
    "\n",
    "# Adicionando um novo pedido\n",
    "        novo_pedido = f\"Pedido {pedidos_processados + len(pedidos)}\"\n",
    "        fila.enqueue(novo_pedido)\n",
    "        print(f\"Novo pedido adicionado: {novo_pedido}\")\n",
    "\n",
    "        "
   ]
  },
  {
   "cell_type": "code",
   "execution_count": 109,
   "metadata": {},
   "outputs": [
    {
     "name": "stdout",
     "output_type": "stream",
     "text": [
      "ENQUEUE Pedido 1\n",
      "ENQUEUE Pedido 2\n",
      "ENQUEUE Pedido 3\n",
      "ENQUEUE Pedido 4\n",
      "DEQUEUE\n",
      "Processando pedido: Pedido 1\n",
      "ENQUEUE Pedido 5\n",
      "Novo pedido adicionado: Pedido 5\n",
      "DEQUEUE\n",
      "Processando pedido: Pedido 2\n",
      "ENQUEUE Pedido 6\n",
      "Novo pedido adicionado: Pedido 6\n",
      "DEQUEUE\n",
      "Processando pedido: Pedido 3\n",
      "ENQUEUE Pedido 7\n",
      "Novo pedido adicionado: Pedido 7\n",
      "DEQUEUE\n",
      "Processando pedido: Pedido 4\n",
      "ENQUEUE Pedido 8\n",
      "Novo pedido adicionado: Pedido 8\n",
      "DEQUEUE\n",
      "Processando pedido: Pedido 5\n",
      "ENQUEUE Pedido 9\n",
      "Novo pedido adicionado: Pedido 9\n"
     ]
    }
   ],
   "source": [
    "pedidos_iniciais = [\"Pedido 1\", \"Pedido 2\", \"Pedido 3\", \"Pedido 4\"]\n",
    "controle_pedidos(pedidos_iniciais, 5)"
   ]
  },
  {
   "cell_type": "code",
   "execution_count": null,
   "metadata": {},
   "outputs": [],
   "source": []
  }
 ],
 "metadata": {
  "colab": {
   "provenance": []
  },
  "kernelspec": {
   "display_name": "Python 3 (ipykernel)",
   "language": "python",
   "name": "python3"
  },
  "language_info": {
   "codemirror_mode": {
    "name": "ipython",
    "version": 3
   },
   "file_extension": ".py",
   "mimetype": "text/x-python",
   "name": "python",
   "nbconvert_exporter": "python",
   "pygments_lexer": "ipython3",
   "version": "3.13.5"
  }
 },
 "nbformat": 4,
 "nbformat_minor": 4
}
