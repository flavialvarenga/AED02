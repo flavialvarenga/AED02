{
 "cells": [
  {
   "cell_type": "markdown",
   "id": "27e1a6e5-4c99-439c-b17c-3fb1bef44de7",
   "metadata": {},
   "source": [
    "## Exercício Prático"
   ]
  },
  {
   "cell_type": "code",
   "execution_count": 1,
   "id": "ab22ca14-ae0a-4f82-8b92-b839d02003e1",
   "metadata": {},
   "outputs": [],
   "source": [
    "class Pessoa:\n",
    "    def __init__(self, nome, idade):\n",
    "        self.__nome = nome\n",
    "        self.__idade = idade\n",
    "\n",
    "    def fazer_aniversario(self):\n",
    "        self.__idade = self.__idade + 1\n",
    "\n",
    "    def __str__(self):\n",
    "        return f\"{self.__nome}, {self.__idade} anos\""
   ]
  },
  {
   "cell_type": "code",
   "execution_count": 4,
   "id": "45e7854d-bbf2-4ce5-863e-395f2eb64f5d",
   "metadata": {},
   "outputs": [
    {
     "name": "stdout",
     "output_type": "stream",
     "text": [
      "Maria, 23 anos\n",
      "João, 50 anos\n",
      "Maria, 24 anos\n"
     ]
    }
   ],
   "source": [
    "# Teste:\n",
    "p1 = Pessoa(\"Maria\", 23)\n",
    "p2 = Pessoa(\"João\", 50)\n",
    "\n",
    "print(p1) # Maria, 23 anos\n",
    "print(p2) # João, 50 anos\n",
    "\n",
    "p1.fazer_aniversario()\n",
    "print(p1)"
   ]
  },
  {
   "cell_type": "code",
   "execution_count": null,
   "id": "95d8a88d-a19c-424e-ac96-3fb3dec28cce",
   "metadata": {},
   "outputs": [],
   "source": []
  }
 ],
 "metadata": {
  "kernelspec": {
   "display_name": "Python 3 (ipykernel)",
   "language": "python",
   "name": "python3"
  },
  "language_info": {
   "codemirror_mode": {
    "name": "ipython",
    "version": 3
   },
   "file_extension": ".py",
   "mimetype": "text/x-python",
   "name": "python",
   "nbconvert_exporter": "python",
   "pygments_lexer": "ipython3",
   "version": "3.13.5"
  }
 },
 "nbformat": 4,
 "nbformat_minor": 5
}
