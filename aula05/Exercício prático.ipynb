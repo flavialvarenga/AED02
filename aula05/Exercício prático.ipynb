{
 "cells": [
  {
   "cell_type": "markdown",
   "id": "27e1a6e5-4c99-439c-b17c-3fb1bef44de7",
   "metadata": {},
   "source": [
    "## Exercício Prático - Classe Pessoa"
   ]
  },
  {
   "cell_type": "code",
   "execution_count": 1,
   "id": "ab22ca14-ae0a-4f82-8b92-b839d02003e1",
   "metadata": {},
   "outputs": [],
   "source": [
    "class Pessoa:\n",
    "    def __init__(self, nome, idade):\n",
    "        self.__nome = nome\n",
    "        self.__idade = idade\n",
    "\n",
    "    def fazer_aniversario(self):\n",
    "        self.__idade = self.__idade + 1\n",
    "\n",
    "    def __str__(self):\n",
    "        return f\"{self.__nome}, {self.__idade} anos\""
   ]
  },
  {
   "cell_type": "code",
   "execution_count": 4,
   "id": "45e7854d-bbf2-4ce5-863e-395f2eb64f5d",
   "metadata": {},
   "outputs": [
    {
     "name": "stdout",
     "output_type": "stream",
     "text": [
      "Maria, 23 anos\n",
      "João, 50 anos\n",
      "Maria, 24 anos\n"
     ]
    }
   ],
   "source": [
    "# Teste:\n",
    "p1 = Pessoa(\"Maria\", 23)\n",
    "p2 = Pessoa(\"João\", 50)\n",
    "\n",
    "print(p1) # Maria, 23 anos\n",
    "print(p2) # João, 50 anos\n",
    "\n",
    "p1.fazer_aniversario()\n",
    "print(p1)"
   ]
  },
  {
   "cell_type": "code",
   "execution_count": null,
   "id": "95d8a88d-a19c-424e-ac96-3fb3dec28cce",
   "metadata": {},
   "outputs": [],
   "source": []
  },
  {
   "cell_type": "markdown",
   "id": "8f17f8a0-3557-4b6d-8f7c-31ab9789fecb",
   "metadata": {},
   "source": [
    "## Exercício Prático - Encapsulamento"
   ]
  },
  {
   "cell_type": "code",
   "execution_count": 8,
   "id": "6914bc65-27e8-46c5-9c5c-8d3ddfd3febf",
   "metadata": {},
   "outputs": [],
   "source": [
    "class Lampada:\n",
    "    def __init__(self):\n",
    "        self.__estado = False # refere-se a apagada\n",
    "\n",
    "    def ligar(self):\n",
    "        self.__estado = True\n",
    "\n",
    "    def desligar(self):\n",
    "        self.__estado = False\n",
    "\n",
    "    def is_acesa(self):\n",
    "        return self.__estado"
   ]
  },
  {
   "cell_type": "code",
   "execution_count": 9,
   "id": "50c1dd8f-4e6b-4dec-a283-fffcf91e44ed",
   "metadata": {},
   "outputs": [
    {
     "name": "stdout",
     "output_type": "stream",
     "text": [
      "False\n",
      "True\n",
      "False\n"
     ]
    }
   ],
   "source": [
    "# Testando:\n",
    "\n",
    "lamp = Lampada()\n",
    "print(lamp.is_acesa())\n",
    "lamp.ligar()\n",
    "print(lamp.is_acesa())\n",
    "lamp.desligar()\n",
    "print(lamp.is_acesa())\n",
    "\n"
   ]
  },
  {
   "cell_type": "code",
   "execution_count": null,
   "id": "5bc78e54-1ad4-4012-b3c1-2e253aa22d5e",
   "metadata": {},
   "outputs": [],
   "source": []
  },
  {
   "cell_type": "markdown",
   "id": "b86e07c3-f6c0-4cc9-9d8e-4eb03c715c9b",
   "metadata": {},
   "source": [
    "## Exercício Prático -  Herança"
   ]
  },
  {
   "cell_type": "code",
   "execution_count": 12,
   "id": "fd15fe33-2917-4e65-b5a3-a97094fb79c2",
   "metadata": {},
   "outputs": [],
   "source": [
    "class Animal:\n",
    "    def fazer_som(self):\n",
    "        print(\"Algum som\")\n",
    "\n",
    "class Cachorro(Animal):\n",
    "    def fazer_som(self):\n",
    "        print(\"Au Au\")\n",
    "\n",
    "class Gato(Animal):\n",
    "    def fazer_som(self):\n",
    "        print(\"Miau\")\n"
   ]
  },
  {
   "cell_type": "code",
   "execution_count": 13,
   "id": "7dd6eaf9-d41c-42ac-a742-376bef5de089",
   "metadata": {},
   "outputs": [
    {
     "name": "stdout",
     "output_type": "stream",
     "text": [
      "Algum som\n",
      "Au Au\n",
      "Miau\n"
     ]
    }
   ],
   "source": [
    "# Testando:\n",
    "a = Animal()\n",
    "c = Cachorro()\n",
    "g = Gato()\n",
    "\n",
    "a.fazer_som() #algum som\n",
    "c.fazer_som() #Au Au\n",
    "g.fazer_som() #Miau"
   ]
  },
  {
   "cell_type": "code",
   "execution_count": null,
   "id": "0047e200-bb7f-425f-b559-1b20e4504d8c",
   "metadata": {},
   "outputs": [],
   "source": []
  },
  {
   "cell_type": "markdown",
   "id": "10aa036e-1aa4-4c6d-9058-15505928e95e",
   "metadata": {},
   "source": [
    "## Exercício Prático -  Polimorfismo"
   ]
  },
  {
   "cell_type": "code",
   "execution_count": 16,
   "id": "31492c5d-cda0-46b9-b229-f44cb79e690d",
   "metadata": {},
   "outputs": [
    {
     "name": "stdout",
     "output_type": "stream",
     "text": [
      "Au Au\n",
      "Miau\n",
      "Piu Piu\n"
     ]
    }
   ],
   "source": [
    "class Animal:\n",
    "    def fazer_som(self):\n",
    "        print(\"Algum som\")\n",
    "\n",
    "class Cachorro(Animal):\n",
    "    def fazer_som(self):\n",
    "        print(\"Au Au\")\n",
    "\n",
    "class Gato(Animal):\n",
    "    def fazer_som(self):\n",
    "        print(\"Miau\")\n",
    "\n",
    "class Passaro(Animal):\n",
    "    def fazer_som(self):\n",
    "        print(\"Piu Piu\")\n",
    "\n",
    "def animais_falam(lista):\n",
    "    for animal in lista:\n",
    "        animal.fazer_som()\n",
    "\n",
    "lista_animais = [Cachorro(), Gato(), Passaro()]\n",
    "animais_falam(lista_animais)"
   ]
  },
  {
   "cell_type": "code",
   "execution_count": null,
   "id": "5193f82a-45e2-4a4a-9b0b-27f5f063824c",
   "metadata": {},
   "outputs": [],
   "source": []
  }
 ],
 "metadata": {
  "kernelspec": {
   "display_name": "Python 3 (ipykernel)",
   "language": "python",
   "name": "python3"
  },
  "language_info": {
   "codemirror_mode": {
    "name": "ipython",
    "version": 3
   },
   "file_extension": ".py",
   "mimetype": "text/x-python",
   "name": "python",
   "nbconvert_exporter": "python",
   "pygments_lexer": "ipython3",
   "version": "3.12.7"
  }
 },
 "nbformat": 4,
 "nbformat_minor": 5
}
